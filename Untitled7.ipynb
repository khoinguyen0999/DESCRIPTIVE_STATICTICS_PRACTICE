{
  "nbformat": 4,
  "nbformat_minor": 0,
  "metadata": {
    "colab": {
      "provenance": [],
      "toc_visible": true,
      "authorship_tag": "ABX9TyNAxbX4Lkzaotg1uwPwaXdj",
      "include_colab_link": true
    },
    "kernelspec": {
      "name": "python3",
      "display_name": "Python 3"
    },
    "language_info": {
      "name": "python"
    }
  },
  "cells": [
    {
      "cell_type": "markdown",
      "metadata": {
        "id": "view-in-github",
        "colab_type": "text"
      },
      "source": [
        "<a href=\"https://colab.research.google.com/github/khoinguyen0999/DESCRIPTIVE_STATICTICS_PRACTICE/blob/main/Untitled7.ipynb\" target=\"_parent\"><img src=\"https://colab.research.google.com/assets/colab-badge.svg\" alt=\"Open In Colab\"/></a>"
      ]
    },
    {
      "cell_type": "code",
      "source": [
        "import pandas as pd\n",
        "import numpy as np\n",
        "df = pd.read_csv('StressLevelDataset.csv')\n",
        "df = df.drop(df.columns[1:20], axis = 1)\n",
        "print(df.head)\n",
        "print(df[\"stress_level\"].mean())\n",
        "print(df[\"stress_level\"].median())\n",
        "print(df[\"stress_level\"].mode()[0])\n",
        "print(df[\"stress_level\"].var())\n",
        "print(df[\"stress_level\"].std())"
      ],
      "metadata": {
        "colab": {
          "base_uri": "https://localhost:8080/"
        },
        "id": "EJQLwIzqZQiV",
        "outputId": "a57d2e8a-c5ee-4cd2-bab8-5a4c9cf3c778"
      },
      "execution_count": 24,
      "outputs": [
        {
          "output_type": "stream",
          "name": "stdout",
          "text": [
            "<bound method NDFrame.head of       anxiety_level  stress_level\n",
            "0                14             1\n",
            "1                15             2\n",
            "2                12             1\n",
            "3                16             2\n",
            "4                16             1\n",
            "...             ...           ...\n",
            "1095             11             1\n",
            "1096              9             2\n",
            "1097              4             0\n",
            "1098             21             2\n",
            "1099             18             2\n",
            "\n",
            "[1100 rows x 2 columns]>\n",
            "0.9963636363636363\n",
            "1.0\n",
            "0\n",
            "0.6751460004963297\n",
            "0.8216726845261011\n"
          ]
        }
      ]
    }
  ]
}